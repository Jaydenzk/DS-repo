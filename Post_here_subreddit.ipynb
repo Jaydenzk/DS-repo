{
  "nbformat": 4,
  "nbformat_minor": 0,
  "metadata": {
    "colab": {
      "name": "Post-here-subreddit.ipynb",
      "provenance": [],
      "collapsed_sections": [],
      "authorship_tag": "ABX9TyMTpWwnb/w6ageRKowzoKkw",
      "include_colab_link": true
    },
    "kernelspec": {
      "name": "python3",
      "display_name": "Python 3"
    }
  },
  "cells": [
    {
      "cell_type": "markdown",
      "metadata": {
        "id": "view-in-github",
        "colab_type": "text"
      },
      "source": [
        "<a href=\"https://colab.research.google.com/github/Jaydenzk/DS-repo/blob/master/Post_here_subreddit.ipynb\" target=\"_parent\"><img src=\"https://colab.research.google.com/assets/colab-badge.svg\" alt=\"Open In Colab\"/></a>"
      ]
    },
    {
      "cell_type": "code",
      "metadata": {
        "id": "2Tra1zum9i40",
        "colab_type": "code",
        "colab": {}
      },
      "source": [
        "import matplotlib.pyplot as plt\n",
        "import seaborn as sns\n",
        "import pandas as pd\n",
        "import numpy as np\n",
        "import requests\n",
        "import math"
      ],
      "execution_count": 0,
      "outputs": []
    },
    {
      "cell_type": "code",
      "metadata": {
        "id": "SXpbBONi9sDU",
        "colab_type": "code",
        "outputId": "05f98b27-1c3d-4fcc-b469-1dd788daa7b5",
        "colab": {
          "base_uri": "https://localhost:8080/",
          "height": 53
        }
      },
      "source": [
        "PAGE_COUNT = 5\n",
        "RANDOM_STATE = 0\n",
        "TEST_SIZE = 0.25\n",
        "\n",
        "def get_reddit_data(page_count):\n",
        "    print('fetching your data, * = 1 request to the Reddit API')\n",
        "    headers = {'User-Agent': 'Predicting Reddit Post Metadata'}\n",
        "    posts = []\n",
        "    top_subreddits = [ 'r/funny', 'r/gaming', 'r/pics',\n",
        "            'r/aww', 'r/science', 'r/worldnews', 'r/Music',\n",
        "            'r/movies', 'r/todayilearned', 'r/videos'\n",
        "    ]\n",
        "    for i in range(len(top_subreddits)):\n",
        "        after = ''\n",
        "        for j in range(page_count):\n",
        "            print('*', end='')\n",
        "            url = 'https://www.reddit.com/'+ top_subreddits[i] + '/top.json?t=all&after=' + after\n",
        "            #print(url)\n",
        "            response = requests.get(url, headers=headers)    \n",
        "            for k in range(len(response.json()['data']['children'])):\n",
        "                post = {}\n",
        "                post['created_utc'] = int(response.json()['data']['children'][k]['data']['created_utc'])\n",
        "                post['is_video'] = int(response.json()['data']['children'][k]['data']['is_video'])\n",
        "                post['subreddit'] = response.json()['data']['children'][k]['data']['subreddit']\n",
        "                post['title'] = response.json()['data']['children'][k]['data']['title']\n",
        "                post['total_awards_received'] = response.json()['data']['children'][k]['data']['total_awards_received']\n",
        "                post['ups'] = response.json()['data']['children'][k]['data']['ups']\n",
        "                posts.append(post)\n",
        "            after = response.json()['data']['after']    \n",
        "    return posts\n",
        "\n",
        "columns = ['created_utc', 'is_video', 'subreddit', 'title', 'total_awards_received', 'ups']\n",
        "df = pd.DataFrame(get_reddit_data(PAGE_COUNT), columns=columns)\n",
        "df = df.sample(frac=1, random_state=RANDOM_STATE)"
      ],
      "execution_count": 0,
      "outputs": [
        {
          "output_type": "stream",
          "text": [
            "fetching your data, * = 1 request to the Reddit API\n",
            "**************************************************"
          ],
          "name": "stdout"
        }
      ]
    },
    {
      "cell_type": "code",
      "metadata": {
        "id": "aoJvuoLQ9sB5",
        "colab_type": "code",
        "outputId": "bf8a371d-b21c-418a-fbe1-02e4f4723244",
        "colab": {
          "base_uri": "https://localhost:8080/",
          "height": 881
        }
      },
      "source": [
        "print('df.Describe():\\n', df.describe(), '\\n')\n",
        "print(df.info(), '\\n')\n",
        "print('df.head(10):\\n', df.head(10), '\\n')\n",
        "print('SUM OF NA VALUES:\\n', df.isna().sum(), '\\n')"
      ],
      "execution_count": 0,
      "outputs": [
        {
          "output_type": "stream",
          "text": [
            "df.Describe():\n",
            "         created_utc     is_video  total_awards_received            ups\n",
            "count  1.250000e+03  1250.000000             1250.00000    1250.000000\n",
            "mean   1.536007e+09     0.058400                8.51600  111916.842400\n",
            "std    2.822121e+07     0.234592               30.55932   41493.460995\n",
            "min    1.407798e+09     0.000000                0.00000   35402.000000\n",
            "25%    1.514150e+09     0.000000                0.00000   77574.000000\n",
            "50%    1.539458e+09     0.000000                2.00000  111620.000000\n",
            "75%    1.557992e+09     0.000000                7.00000  138394.250000\n",
            "max    1.580818e+09     1.000000              521.00000  349288.000000 \n",
            "\n",
            "<class 'pandas.core.frame.DataFrame'>\n",
            "Int64Index: 1250 entries, 711 to 684\n",
            "Data columns (total 6 columns):\n",
            "created_utc              1250 non-null int64\n",
            "is_video                 1250 non-null int64\n",
            "subreddit                1250 non-null object\n",
            "title                    1250 non-null object\n",
            "total_awards_received    1250 non-null int64\n",
            "ups                      1250 non-null int64\n",
            "dtypes: int64(4), object(2)\n",
            "memory usage: 68.4+ KB\n",
            "None \n",
            "\n",
            "df.head(10):\n",
            "       created_utc  is_video  ... total_awards_received     ups\n",
            "711    1511202915         0  ...                     1   98787\n",
            "898    1563793522         0  ...                     2   96204\n",
            "186    1541352571         0  ...                     7  129252\n",
            "867    1501167461         0  ...                     0   36524\n",
            "18     1548784436         0  ...                     6  170710\n",
            "1152   1562593061         0  ...                     6  101417\n",
            "192    1529623801         0  ...                    10  127316\n",
            "184    1479762343         0  ...                     0  129561\n",
            "824    1551698540         0  ...                     3   44634\n",
            "1058   1519147317         0  ...                     1  105334\n",
            "\n",
            "[10 rows x 6 columns] \n",
            "\n",
            "SUM OF NA VALUES:\n",
            " created_utc              0\n",
            "is_video                 0\n",
            "subreddit                0\n",
            "title                    0\n",
            "total_awards_received    0\n",
            "ups                      0\n",
            "dtype: int64 \n",
            "\n"
          ],
          "name": "stdout"
        }
      ]
    },
    {
      "cell_type": "code",
      "metadata": {
        "id": "LDoT5U5m9r_2",
        "colab_type": "code",
        "outputId": "600417e7-2e24-4e5e-b688-b7b1c8e16498",
        "colab": {
          "base_uri": "https://localhost:8080/",
          "height": 824
        }
      },
      "source": [
        "df.head(25)"
      ],
      "execution_count": 0,
      "outputs": [
        {
          "output_type": "execute_result",
          "data": {
            "text/html": [
              "<div>\n",
              "<style scoped>\n",
              "    .dataframe tbody tr th:only-of-type {\n",
              "        vertical-align: middle;\n",
              "    }\n",
              "\n",
              "    .dataframe tbody tr th {\n",
              "        vertical-align: top;\n",
              "    }\n",
              "\n",
              "    .dataframe thead th {\n",
              "        text-align: right;\n",
              "    }\n",
              "</style>\n",
              "<table border=\"1\" class=\"dataframe\">\n",
              "  <thead>\n",
              "    <tr style=\"text-align: right;\">\n",
              "      <th></th>\n",
              "      <th>created_utc</th>\n",
              "      <th>is_video</th>\n",
              "      <th>subreddit</th>\n",
              "      <th>title</th>\n",
              "      <th>total_awards_received</th>\n",
              "      <th>ups</th>\n",
              "    </tr>\n",
              "  </thead>\n",
              "  <tbody>\n",
              "    <tr>\n",
              "      <th>711</th>\n",
              "      <td>1511202915</td>\n",
              "      <td>0</td>\n",
              "      <td>worldnews</td>\n",
              "      <td>Pope Francis denounces climate change deniers</td>\n",
              "      <td>1</td>\n",
              "      <td>98787</td>\n",
              "    </tr>\n",
              "    <tr>\n",
              "      <th>898</th>\n",
              "      <td>1563793522</td>\n",
              "      <td>0</td>\n",
              "      <td>movies</td>\n",
              "      <td>James Cameron congratulates Avengers: Endgame ...</td>\n",
              "      <td>2</td>\n",
              "      <td>96204</td>\n",
              "    </tr>\n",
              "    <tr>\n",
              "      <th>186</th>\n",
              "      <td>1541352571</td>\n",
              "      <td>0</td>\n",
              "      <td>gaming</td>\n",
              "      <td>Steve Jobs said it first</td>\n",
              "      <td>7</td>\n",
              "      <td>129252</td>\n",
              "    </tr>\n",
              "    <tr>\n",
              "      <th>867</th>\n",
              "      <td>1501167461</td>\n",
              "      <td>0</td>\n",
              "      <td>Music</td>\n",
              "      <td>Steve Earle says modern country stars make 'hi...</td>\n",
              "      <td>0</td>\n",
              "      <td>36524</td>\n",
              "    </tr>\n",
              "    <tr>\n",
              "      <th>18</th>\n",
              "      <td>1548784436</td>\n",
              "      <td>0</td>\n",
              "      <td>funny</td>\n",
              "      <td>Citizen of Golden, CO (home of Coors and about...</td>\n",
              "      <td>6</td>\n",
              "      <td>170710</td>\n",
              "    </tr>\n",
              "    <tr>\n",
              "      <th>1152</th>\n",
              "      <td>1562593061</td>\n",
              "      <td>0</td>\n",
              "      <td>videos</td>\n",
              "      <td>Let's not forget about the teacher who was arr...</td>\n",
              "      <td>6</td>\n",
              "      <td>101417</td>\n",
              "    </tr>\n",
              "    <tr>\n",
              "      <th>192</th>\n",
              "      <td>1529623801</td>\n",
              "      <td>0</td>\n",
              "      <td>gaming</td>\n",
              "      <td>Youtuber \"Potates\" completely plagiarized a po...</td>\n",
              "      <td>10</td>\n",
              "      <td>127316</td>\n",
              "    </tr>\n",
              "    <tr>\n",
              "      <th>184</th>\n",
              "      <td>1479762343</td>\n",
              "      <td>0</td>\n",
              "      <td>gaming</td>\n",
              "      <td>Some Michael Bay shit going on right here</td>\n",
              "      <td>0</td>\n",
              "      <td>129561</td>\n",
              "    </tr>\n",
              "    <tr>\n",
              "      <th>824</th>\n",
              "      <td>1551698540</td>\n",
              "      <td>0</td>\n",
              "      <td>Music</td>\n",
              "      <td>Prodigy frontman Keith Flint found dead at his...</td>\n",
              "      <td>3</td>\n",
              "      <td>44634</td>\n",
              "    </tr>\n",
              "    <tr>\n",
              "      <th>1058</th>\n",
              "      <td>1519147317</td>\n",
              "      <td>0</td>\n",
              "      <td>todayilearned</td>\n",
              "      <td>TIL there's a restaurant in New York that does...</td>\n",
              "      <td>1</td>\n",
              "      <td>105334</td>\n",
              "    </tr>\n",
              "    <tr>\n",
              "      <th>141</th>\n",
              "      <td>1508682130</td>\n",
              "      <td>0</td>\n",
              "      <td>gaming</td>\n",
              "      <td>It's a shame...</td>\n",
              "      <td>0</td>\n",
              "      <td>151840</td>\n",
              "    </tr>\n",
              "    <tr>\n",
              "      <th>240</th>\n",
              "      <td>1530999548</td>\n",
              "      <td>0</td>\n",
              "      <td>gaming</td>\n",
              "      <td>Found the instructions my mom wrote for 12-yea...</td>\n",
              "      <td>4</td>\n",
              "      <td>113624</td>\n",
              "    </tr>\n",
              "    <tr>\n",
              "      <th>45</th>\n",
              "      <td>1534931410</td>\n",
              "      <td>0</td>\n",
              "      <td>funny</td>\n",
              "      <td>\"Put your hands up\"</td>\n",
              "      <td>0</td>\n",
              "      <td>149002</td>\n",
              "    </tr>\n",
              "    <tr>\n",
              "      <th>5</th>\n",
              "      <td>1501332999</td>\n",
              "      <td>0</td>\n",
              "      <td>funny</td>\n",
              "      <td>Reddit's Immigrants</td>\n",
              "      <td>7</td>\n",
              "      <td>206286</td>\n",
              "    </tr>\n",
              "    <tr>\n",
              "      <th>328</th>\n",
              "      <td>1504818029</td>\n",
              "      <td>0</td>\n",
              "      <td>pics</td>\n",
              "      <td>The best weather man ever just received this t...</td>\n",
              "      <td>0</td>\n",
              "      <td>153491</td>\n",
              "    </tr>\n",
              "    <tr>\n",
              "      <th>629</th>\n",
              "      <td>1511365795</td>\n",
              "      <td>0</td>\n",
              "      <td>worldnews</td>\n",
              "      <td>Internet Defenders Urge Mass Revolt to Fight F...</td>\n",
              "      <td>2</td>\n",
              "      <td>145858</td>\n",
              "    </tr>\n",
              "    <tr>\n",
              "      <th>959</th>\n",
              "      <td>1509637524</td>\n",
              "      <td>0</td>\n",
              "      <td>movies</td>\n",
              "      <td>Quentin Tarantino Has Finished the Script for ...</td>\n",
              "      <td>0</td>\n",
              "      <td>70955</td>\n",
              "    </tr>\n",
              "    <tr>\n",
              "      <th>906</th>\n",
              "      <td>1574778281</td>\n",
              "      <td>0</td>\n",
              "      <td>movies</td>\n",
              "      <td>Netflix takes over lease to iconic but failed ...</td>\n",
              "      <td>0</td>\n",
              "      <td>90604</td>\n",
              "    </tr>\n",
              "    <tr>\n",
              "      <th>1214</th>\n",
              "      <td>1512341140</td>\n",
              "      <td>0</td>\n",
              "      <td>videos</td>\n",
              "      <td>Even though Mel Blanc did over a 1000 differen...</td>\n",
              "      <td>0</td>\n",
              "      <td>76877</td>\n",
              "    </tr>\n",
              "    <tr>\n",
              "      <th>427</th>\n",
              "      <td>1544566545</td>\n",
              "      <td>1</td>\n",
              "      <td>aww</td>\n",
              "      <td>Smooches from his fren makes him very happy</td>\n",
              "      <td>10</td>\n",
              "      <td>137958</td>\n",
              "    </tr>\n",
              "    <tr>\n",
              "      <th>716</th>\n",
              "      <td>1539127046</td>\n",
              "      <td>0</td>\n",
              "      <td>worldnews</td>\n",
              "      <td>Greece bans obese tourists from riding on donkeys</td>\n",
              "      <td>1</td>\n",
              "      <td>97375</td>\n",
              "    </tr>\n",
              "    <tr>\n",
              "      <th>1016</th>\n",
              "      <td>1543883388</td>\n",
              "      <td>0</td>\n",
              "      <td>todayilearned</td>\n",
              "      <td>TIL there was an early 1900s act named \"Sober ...</td>\n",
              "      <td>1</td>\n",
              "      <td>125794</td>\n",
              "    </tr>\n",
              "    <tr>\n",
              "      <th>202</th>\n",
              "      <td>1497471554</td>\n",
              "      <td>0</td>\n",
              "      <td>gaming</td>\n",
              "      <td>onexboxonexbox</td>\n",
              "      <td>1</td>\n",
              "      <td>122986</td>\n",
              "    </tr>\n",
              "    <tr>\n",
              "      <th>298</th>\n",
              "      <td>1499626149</td>\n",
              "      <td>0</td>\n",
              "      <td>pics</td>\n",
              "      <td>My phone has a wide selfie feature similar to ...</td>\n",
              "      <td>3</td>\n",
              "      <td>166089</td>\n",
              "    </tr>\n",
              "    <tr>\n",
              "      <th>695</th>\n",
              "      <td>1518704888</td>\n",
              "      <td>0</td>\n",
              "      <td>worldnews</td>\n",
              "      <td>Moscow residents say they have found that the ...</td>\n",
              "      <td>0</td>\n",
              "      <td>103674</td>\n",
              "    </tr>\n",
              "  </tbody>\n",
              "</table>\n",
              "</div>"
            ],
            "text/plain": [
              "      created_utc  is_video  ... total_awards_received     ups\n",
              "711    1511202915         0  ...                     1   98787\n",
              "898    1563793522         0  ...                     2   96204\n",
              "186    1541352571         0  ...                     7  129252\n",
              "867    1501167461         0  ...                     0   36524\n",
              "18     1548784436         0  ...                     6  170710\n",
              "1152   1562593061         0  ...                     6  101417\n",
              "192    1529623801         0  ...                    10  127316\n",
              "184    1479762343         0  ...                     0  129561\n",
              "824    1551698540         0  ...                     3   44634\n",
              "1058   1519147317         0  ...                     1  105334\n",
              "141    1508682130         0  ...                     0  151840\n",
              "240    1530999548         0  ...                     4  113624\n",
              "45     1534931410         0  ...                     0  149002\n",
              "5      1501332999         0  ...                     7  206286\n",
              "328    1504818029         0  ...                     0  153491\n",
              "629    1511365795         0  ...                     2  145858\n",
              "959    1509637524         0  ...                     0   70955\n",
              "906    1574778281         0  ...                     0   90604\n",
              "1214   1512341140         0  ...                     0   76877\n",
              "427    1544566545         1  ...                    10  137958\n",
              "716    1539127046         0  ...                     1   97375\n",
              "1016   1543883388         0  ...                     1  125794\n",
              "202    1497471554         0  ...                     1  122986\n",
              "298    1499626149         0  ...                     3  166089\n",
              "695    1518704888         0  ...                     0  103674\n",
              "\n",
              "[25 rows x 6 columns]"
            ]
          },
          "metadata": {
            "tags": []
          },
          "execution_count": 191
        }
      ]
    },
    {
      "cell_type": "code",
      "metadata": {
        "id": "gCOPameQMlcq",
        "colab_type": "code",
        "colab": {}
      },
      "source": [
        "from scipy.stats import zscore\n",
        "from sklearn.feature_extraction.text import TfidfVectorizer\n",
        "from sklearn.linear_model import LogisticRegression\n",
        "from sklearn.model_selection import train_test_split, cross_val_score\n",
        "from sklearn.naive_bayes import MultinomialNB\n",
        "from sklearn.metrics import confusion_matrix\n",
        "from sklearn.pipeline import make_pipeline"
      ],
      "execution_count": 0,
      "outputs": []
    },
    {
      "cell_type": "code",
      "metadata": {
        "id": "7AmuirK0B9yL",
        "colab_type": "code",
        "colab": {}
      },
      "source": [
        "X = df['title'].values\n",
        "y = df['subreddit'].values\n",
        "X_train, X_test, y_train, y_test = train_test_split(X, y, test_size=TEST_SIZE, random_state=0)"
      ],
      "execution_count": 0,
      "outputs": []
    },
    {
      "cell_type": "code",
      "metadata": {
        "id": "tnKmeNwgB9rl",
        "colab_type": "code",
        "outputId": "6b63095d-92fd-40ee-9d77-5fc34154629e",
        "colab": {
          "base_uri": "https://localhost:8080/",
          "height": 323
        }
      },
      "source": [
        "model = make_pipeline(TfidfVectorizer(), MultinomialNB())\n",
        "model.fit(X_train, y_train)"
      ],
      "execution_count": 0,
      "outputs": [
        {
          "output_type": "execute_result",
          "data": {
            "text/plain": [
              "Pipeline(memory=None,\n",
              "         steps=[('tfidfvectorizer',\n",
              "                 TfidfVectorizer(analyzer='word', binary=False,\n",
              "                                 decode_error='strict',\n",
              "                                 dtype=<class 'numpy.float64'>,\n",
              "                                 encoding='utf-8', input='content',\n",
              "                                 lowercase=True, max_df=1.0, max_features=None,\n",
              "                                 min_df=1, ngram_range=(1, 1), norm='l2',\n",
              "                                 preprocessor=None, smooth_idf=True,\n",
              "                                 stop_words=None, strip_accents=None,\n",
              "                                 sublinear_tf=False,\n",
              "                                 token_pattern='(?u)\\\\b\\\\w\\\\w+\\\\b',\n",
              "                                 tokenizer=None, use_idf=True,\n",
              "                                 vocabulary=None)),\n",
              "                ('multinomialnb',\n",
              "                 MultinomialNB(alpha=1.0, class_prior=None, fit_prior=True))],\n",
              "         verbose=False)"
            ]
          },
          "metadata": {
            "tags": []
          },
          "execution_count": 183
        }
      ]
    },
    {
      "cell_type": "code",
      "metadata": {
        "id": "8s-VQqYBB9pw",
        "colab_type": "code",
        "colab": {}
      },
      "source": [
        "y_predict = model.predict(X_test)\n",
        "accuracy = (y_predict == y_test).mean()\n",
        "baseline = pd.Series(y_test).value_counts()[0] / pd.Series(y_test).value_counts().sum()\n",
        "prediction_count = pd.Series(y_test).value_counts().sum()"
      ],
      "execution_count": 0,
      "outputs": []
    },
    {
      "cell_type": "code",
      "metadata": {
        "id": "ho_vyP9aB9oC",
        "colab_type": "code",
        "outputId": "7fcf4d4a-7b7b-4d35-94de-acd8d5b3127f",
        "colab": {
          "base_uri": "https://localhost:8080/",
          "height": 791
        }
      },
      "source": [
        "print('VC of y_train')\n",
        "print(pd.Series(y_train).value_counts()[:10], '\\n')\n",
        "print('VC of y_test')\n",
        "print(pd.Series(y_test).value_counts()[:10], '\\n')\n",
        "print('VC of y_predict')\n",
        "print(pd.Series(y_predict).value_counts()[:10], '\\n')\n",
        "print('# PRDCTN: ', prediction_count)\n",
        "print('BASELINE: ', baseline)\n",
        "print('ACCURACY: ', accuracy)\n",
        "print(len(y_test), len(y_predict))       "
      ],
      "execution_count": 0,
      "outputs": [
        {
          "output_type": "stream",
          "text": [
            "VC of y_train\n",
            "pics             99\n",
            "movies           99\n",
            "Music            97\n",
            "videos           97\n",
            "gaming           95\n",
            "worldnews        94\n",
            "aww              92\n",
            "todayilearned    91\n",
            "science          88\n",
            "funny            85\n",
            "dtype: int64 \n",
            "\n",
            "VC of y_test\n",
            "funny            40\n",
            "science          37\n",
            "todayilearned    34\n",
            "aww              33\n",
            "worldnews        31\n",
            "gaming           30\n",
            "Music            28\n",
            "videos           28\n",
            "pics             26\n",
            "movies           26\n",
            "dtype: int64 \n",
            "\n",
            "VC of y_predict\n",
            "todayilearned    75\n",
            "pics             49\n",
            "aww              38\n",
            "movies           37\n",
            "science          34\n",
            "videos           24\n",
            "Music            18\n",
            "worldnews        18\n",
            "gaming           16\n",
            "funny             4\n",
            "dtype: int64 \n",
            "\n",
            "# PRDCTN:  313\n",
            "BASELINE:  0.12779552715654952\n",
            "ACCURACY:  0.5207667731629393\n",
            "313 313\n"
          ],
          "name": "stdout"
        }
      ]
    },
    {
      "cell_type": "code",
      "metadata": {
        "id": "gJs3b-XZ9r70",
        "colab_type": "code",
        "colab": {}
      },
      "source": [
        "train_predict_report(df[0:10000])"
      ],
      "execution_count": 0,
      "outputs": []
    },
    {
      "cell_type": "code",
      "metadata": {
        "id": "Ac569w189r4U",
        "colab_type": "code",
        "colab": {}
      },
      "source": [
        "import pickle"
      ],
      "execution_count": 0,
      "outputs": []
    },
    {
      "cell_type": "code",
      "metadata": {
        "id": "P79geSl69r2p",
        "colab_type": "code",
        "colab": {}
      },
      "source": [
        "pickle.dump(model, open( \"model.pkl\", \"wb\" ) )"
      ],
      "execution_count": 0,
      "outputs": []
    },
    {
      "cell_type": "code",
      "metadata": {
        "id": "U2oHgH4Y9rzr",
        "colab_type": "code",
        "colab": {}
      },
      "source": [
        ""
      ],
      "execution_count": 0,
      "outputs": []
    },
    {
      "cell_type": "code",
      "metadata": {
        "id": "PYkEIAuO9rx5",
        "colab_type": "code",
        "colab": {}
      },
      "source": [
        ""
      ],
      "execution_count": 0,
      "outputs": []
    },
    {
      "cell_type": "code",
      "metadata": {
        "id": "wJs-o66H9rv_",
        "colab_type": "code",
        "colab": {}
      },
      "source": [
        ""
      ],
      "execution_count": 0,
      "outputs": []
    },
    {
      "cell_type": "code",
      "metadata": {
        "id": "Yohzbd1a9rtt",
        "colab_type": "code",
        "colab": {}
      },
      "source": [
        ""
      ],
      "execution_count": 0,
      "outputs": []
    },
    {
      "cell_type": "code",
      "metadata": {
        "id": "YayzQ_j19rnO",
        "colab_type": "code",
        "colab": {}
      },
      "source": [
        ""
      ],
      "execution_count": 0,
      "outputs": []
    },
    {
      "cell_type": "code",
      "metadata": {
        "id": "vmPy9OOU9rlN",
        "colab_type": "code",
        "colab": {}
      },
      "source": [
        ""
      ],
      "execution_count": 0,
      "outputs": []
    },
    {
      "cell_type": "code",
      "metadata": {
        "id": "5QfMY4MO9rjY",
        "colab_type": "code",
        "colab": {}
      },
      "source": [
        ""
      ],
      "execution_count": 0,
      "outputs": []
    },
    {
      "cell_type": "code",
      "metadata": {
        "id": "G5PMCCxT9rh0",
        "colab_type": "code",
        "colab": {}
      },
      "source": [
        ""
      ],
      "execution_count": 0,
      "outputs": []
    },
    {
      "cell_type": "code",
      "metadata": {
        "id": "nyJSOo7M9rfu",
        "colab_type": "code",
        "colab": {}
      },
      "source": [
        ""
      ],
      "execution_count": 0,
      "outputs": []
    }
  ]
}